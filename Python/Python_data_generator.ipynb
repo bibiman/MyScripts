{
 "cells": [
  {
   "cell_type": "code",
   "execution_count": 2,
   "id": "a7af2085",
   "metadata": {},
   "outputs": [],
   "source": [
    "from faker import Faker"
   ]
  },
  {
   "cell_type": "code",
   "execution_count": 3,
   "id": "9db0a706",
   "metadata": {},
   "outputs": [],
   "source": [
    "fake = Faker()"
   ]
  },
  {
   "cell_type": "code",
   "execution_count": 4,
   "id": "5b8af3f8",
   "metadata": {},
   "outputs": [
    {
     "name": "stdout",
     "output_type": "stream",
     "text": [
      "mark94@yahoo.com\n"
     ]
    }
   ],
   "source": [
    "print(fake.ascii_email())"
   ]
  },
  {
   "cell_type": "code",
   "execution_count": 5,
   "id": "de109adf",
   "metadata": {},
   "outputs": [
    {
     "name": "stdout",
     "output_type": "stream",
     "text": [
      "lt-24.avery-turner.com\n"
     ]
    }
   ],
   "source": [
    "print(fake.hostname())"
   ]
  },
  {
   "cell_type": "code",
   "execution_count": 6,
   "id": "dafca05f",
   "metadata": {},
   "outputs": [
    {
     "name": "stdout",
     "output_type": "stream",
     "text": [
      "02a4d0f7-1c31-5c61-74bc-736f6f38059fw\n"
     ]
    }
   ],
   "source": [
    "print(fake.pystr_format('????????-????-????-????-????????????{{random_letter}}','0123456789abcdf'))"
   ]
  },
  {
   "cell_type": "code",
   "execution_count": 7,
   "id": "db94ebf5",
   "metadata": {},
   "outputs": [],
   "source": [
    "myFact = fake.factories"
   ]
  },
  {
   "cell_type": "code",
   "execution_count": 20,
   "id": "fe5cafd0",
   "metadata": {},
   "outputs": [
    {
     "data": {
      "text/plain": [
       "datetime.datetime(2022, 4, 24, 1, 11, 34)"
      ]
     },
     "execution_count": 20,
     "metadata": {},
     "output_type": "execute_result"
    }
   ],
   "source": [
    "from datetime import datetime\n",
    "startDate = datetime.strptime('2022-04-20 0:0:0', '%Y-%m-%d %H:%M:%S')\n",
    "endDate = datetime.strptime('2022-04-26 0:0:0', '%Y-%m-%d %H:%M:%S')\n",
    "d = fake.date_time_between_dates(datetime_start=startDate,datetime_end=endDate)\n",
    "d"
   ]
  },
  {
   "cell_type": "code",
   "execution_count": 16,
   "id": "ceb49dfe",
   "metadata": {},
   "outputs": [
    {
     "data": {
      "text/plain": [
       "'2022-04-25 13:19:36'"
      ]
     },
     "execution_count": 16,
     "metadata": {},
     "output_type": "execute_result"
    }
   ],
   "source": [
    "d.strftime('%Y-%m-%d %H:%M:%S')"
   ]
  }
 ],
 "metadata": {
  "kernelspec": {
   "display_name": "Python 3 (ipykernel)",
   "language": "python",
   "name": "python3"
  },
  "language_info": {
   "codemirror_mode": {
    "name": "ipython",
    "version": 3
   },
   "file_extension": ".py",
   "mimetype": "text/x-python",
   "name": "python",
   "nbconvert_exporter": "python",
   "pygments_lexer": "ipython3",
   "version": "3.9.7"
  }
 },
 "nbformat": 4,
 "nbformat_minor": 5
}
