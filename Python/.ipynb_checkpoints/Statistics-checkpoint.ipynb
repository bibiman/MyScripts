{
 "cells": [
  {
   "cell_type": "markdown",
   "id": "545fa42f",
   "metadata": {},
   "source": [
    "# Lets talk statistics"
   ]
  },
  {
   "cell_type": "markdown",
   "id": "b83eb8a6",
   "metadata": {},
   "source": [
    "Lets import what we need first"
   ]
  },
  {
   "cell_type": "code",
   "execution_count": 1,
   "id": "44632114",
   "metadata": {},
   "outputs": [],
   "source": [
    "import numpy as np\n",
    "import matplotlib.pyplot as plt\n",
    "from math import pi"
   ]
  },
  {
   "cell_type": "markdown",
   "id": "db1909db",
   "metadata": {},
   "source": [
    "Lets create a dummy set"
   ]
  },
  {
   "cell_type": "code",
   "execution_count": 2,
   "id": "cf1ed593",
   "metadata": {},
   "outputs": [],
   "source": [
    "x = np.random.randint(1,1000,1000)"
   ]
  },
  {
   "cell_type": "code",
   "execution_count": 3,
   "id": "8cd2f4f6",
   "metadata": {},
   "outputs": [],
   "source": [
    "seq = np.linspace(1,1000,1000)"
   ]
  },
  {
   "cell_type": "code",
   "execution_count": 4,
   "id": "95dac151",
   "metadata": {},
   "outputs": [
    {
     "data": {
      "text/plain": [
       "array([498, 902, 331, 385, 109, 811, 743, 343, 802, 970,  44, 151, 180,\n",
       "       237,  91, 980,  34, 287, 405, 308, 722, 117, 248, 351, 838, 394,\n",
       "       850, 815, 204, 525, 294, 465, 277,  92,  19, 786, 263, 687,  97,\n",
       "       443, 220, 399, 621, 589, 567, 638, 284, 851, 170,  90, 597, 205,\n",
       "       671, 972, 412, 442, 514, 374,   2, 286, 707, 979, 986, 738, 401,\n",
       "       589, 263, 594, 754, 778, 963, 342, 857, 136, 741, 831, 728, 831,\n",
       "       383, 684, 954, 657, 725, 221, 680, 511, 388, 531, 513, 956, 734,\n",
       "       117, 121,  48, 316,  18, 306, 500, 813, 400, 936, 938, 405, 275,\n",
       "       990, 512, 827, 118, 201, 700, 950,  50, 309, 493, 520, 253, 630,\n",
       "       131, 936, 635, 341, 700, 412, 111, 692, 520, 411, 585, 456, 328,\n",
       "       773, 398, 260, 477, 571, 865,  66, 870, 571,  96, 654, 450, 601,\n",
       "       450,  98, 263, 323, 677, 482, 608, 561, 221, 455, 909, 716, 450,\n",
       "        56, 622, 175, 218, 785, 129,   1,  80,   7, 545, 613, 774, 841,\n",
       "       143, 764, 746, 787, 778, 234, 477, 603,  12, 507, 304, 799, 337,\n",
       "       283, 189, 805, 677, 736, 929, 264,  48, 941, 988, 680, 440, 829,\n",
       "       894, 111, 358, 404, 543, 438, 595, 315, 299, 611, 991, 790, 362,\n",
       "       562, 432, 488, 247, 552,   9, 135, 695,   9, 279, 995, 571, 589,\n",
       "       227, 635, 928, 864, 135,  30, 392, 992, 196, 628, 608, 169, 617,\n",
       "       543, 672, 994, 517, 628, 402, 755, 107, 474, 199, 431, 642, 128,\n",
       "       876, 266,  88, 972, 922, 542, 253, 467, 945, 493, 858, 413, 552,\n",
       "       146, 313, 187,  94, 366, 304, 638, 158, 157, 408,  62, 586,  34,\n",
       "       260, 416, 616, 502, 154, 806, 381, 150, 151, 767, 810, 697, 323,\n",
       "       567, 744,  27, 754, 690, 172, 884, 460, 110,  46, 846, 377, 945,\n",
       "       335, 490, 681, 533, 436, 404, 718, 768, 890,  26, 242, 386, 287,\n",
       "       510, 747, 996, 435, 185, 629, 443, 155,  62, 807, 834, 428, 415,\n",
       "       700, 717, 265,  58, 605,  91, 477, 241, 955,   4, 963, 964, 923,\n",
       "       276, 801, 892, 985, 956, 274, 351,  12, 721, 527, 950, 704, 559,\n",
       "       186,  33, 559, 220, 135, 768, 710, 534, 964, 604, 217, 915, 246,\n",
       "       272, 130, 207, 613, 318, 184, 833, 294, 440, 596, 779, 603, 118,\n",
       "       683, 214, 619, 899, 140,  47, 139, 120, 285, 793, 998, 693, 394,\n",
       "       750, 331, 120, 520, 337, 610, 711, 277, 957, 162, 684, 798, 658,\n",
       "       610,  75, 380, 367, 244, 205, 387, 653, 690,   2, 149, 912, 772,\n",
       "       722, 877, 807, 120, 586, 576, 797, 119, 864, 676, 702, 561, 175,\n",
       "       775, 712, 741, 778, 643, 521, 739, 239, 564, 640, 453,  50, 625,\n",
       "        57, 457, 275, 642, 851, 992, 539, 112, 331, 775, 861, 287, 883,\n",
       "       843, 210, 678,  92, 446, 846, 197, 572, 718, 314, 942, 483, 745,\n",
       "       114, 898, 361, 452, 106, 311, 551, 712, 877, 211, 323, 219, 505,\n",
       "        40,  42,  25, 232, 377, 913, 688, 661, 304, 955, 252, 872, 484,\n",
       "       225, 904,  65,  73, 238, 986,  39, 759, 639, 264,  54, 362, 908,\n",
       "       634, 389, 141,  20, 943, 415, 610, 111, 710, 302, 728, 467,  83,\n",
       "       662, 654, 608, 101, 180, 593, 870, 897, 622, 665,  77, 885, 307,\n",
       "       961, 458, 343, 556, 607, 237, 987, 225, 490, 271, 414, 678, 871,\n",
       "       770, 864, 228, 626, 142, 169, 465,  29, 361, 993, 608, 636, 878,\n",
       "        80,  47, 786, 924, 969, 767,  78, 556, 364, 748, 812, 106, 356,\n",
       "       641, 361, 403, 757, 531,  71, 790, 521, 178, 207, 863, 789, 676,\n",
       "       461, 170, 846, 336, 796, 272, 962, 840,  93, 615, 431, 329, 198,\n",
       "       583, 863,  78,  60, 936, 771, 873, 480,  14, 360, 675, 798, 730,\n",
       "        10, 967, 524, 817, 691, 511, 206,  77, 651, 437, 477, 964, 919,\n",
       "       443,  35, 331, 221, 612, 349, 579, 579, 513, 155, 388,  69, 216,\n",
       "       346, 444, 915, 760, 551, 165, 413, 272, 495, 766, 673, 231, 978,\n",
       "       796,  50, 418, 890, 748, 694, 767, 625, 696, 118, 892, 501, 648,\n",
       "       416, 663,  46, 214, 964, 962, 265, 248, 731, 575, 670, 726, 165,\n",
       "       548, 674, 295, 259, 881, 870, 963, 739, 243, 226, 281, 493, 966,\n",
       "       764, 456, 472, 784, 594, 549, 685, 894, 303,  36, 306, 670,  80,\n",
       "       234, 761,  65, 917, 512, 992,  10, 404, 291, 423, 888, 838,  44,\n",
       "       507, 748, 154,  93, 186, 954, 987, 702, 846, 777, 596, 527, 963,\n",
       "       440, 833, 407, 207,  99,   3, 841, 650, 132, 950, 940, 597, 465,\n",
       "       691, 129, 962, 917, 335, 897, 831, 247, 572, 212, 595, 771, 603,\n",
       "       184, 517, 708, 453, 904, 220, 930, 884, 620, 915, 180, 916, 897,\n",
       "       228, 110,   6, 448,  25, 470, 387, 303, 705, 993, 104, 565, 761,\n",
       "       772, 788, 259, 265, 140, 585, 371, 905, 591, 729, 141, 249, 480,\n",
       "       575, 542, 861, 436, 603, 253, 164, 233, 439, 420, 620, 836, 963,\n",
       "       340, 637, 715, 434, 469, 176, 901, 951, 443, 162, 679, 625, 775,\n",
       "       936, 582, 670, 867, 682,  26, 220, 194, 970, 666, 752, 993, 304,\n",
       "       436, 545, 866, 226, 580, 640, 925,  78, 338, 916, 698, 166, 855,\n",
       "       592, 713,  93, 937, 974, 144, 448, 171, 383, 891, 320, 295,  19,\n",
       "       696, 280, 633, 413, 989, 289, 189, 423, 304, 922, 531, 184, 399,\n",
       "        70, 426, 115, 452, 513, 686,  63, 823, 853, 501, 153, 509, 888,\n",
       "       331, 934, 824, 724, 689, 516, 354, 559, 128, 780, 734, 906, 805,\n",
       "       864, 860, 336, 419, 384,  34, 494, 724, 742, 533, 634, 508,   6,\n",
       "       920, 369, 906, 577, 714,  14, 144, 437, 773, 854, 505, 412, 739,\n",
       "       921, 516, 632, 691, 176, 592, 414, 643, 554, 649, 947, 143,  33,\n",
       "       831,  61, 945, 509, 409, 866, 702, 360, 958, 178, 499,  78, 639,\n",
       "       226, 734, 210, 728, 714, 424, 181, 697, 546, 767, 946, 109, 419,\n",
       "       826, 995, 716, 925,  48, 546, 140, 644, 185,  57, 239, 377, 396,\n",
       "       525,  55, 405, 100, 454, 310, 592, 895, 904, 973, 750, 876, 272,\n",
       "       939,  83, 695, 821, 332, 205, 216, 745, 832, 673, 120, 781])"
      ]
     },
     "execution_count": 4,
     "metadata": {},
     "output_type": "execute_result"
    }
   ],
   "source": [
    "x"
   ]
  },
  {
   "cell_type": "markdown",
   "id": "7252362a",
   "metadata": {},
   "source": [
    "Lets make some modifications to the data to make it a little more real."
   ]
  },
  {
   "cell_type": "code",
   "execution_count": 5,
   "id": "01672148",
   "metadata": {},
   "outputs": [],
   "source": [
    "x = np.sin(x * pi/180)**2*x\n",
    "def vtoa(v):\n",
    "    return np.linspace(v,v,1000)"
   ]
  },
  {
   "cell_type": "markdown",
   "id": "401a150e",
   "metadata": {},
   "source": [
    "mean\n",
    "x̄ = Σfx/Σf\n",
    "where,\n",
    "\n",
    "x̄ = the mean value of the set of given data.\n",
    "f = frequency of each class\n",
    "x = mid-interval value of each class"
   ]
  },
  {
   "cell_type": "code",
   "execution_count": 6,
   "id": "ac55966a",
   "metadata": {},
   "outputs": [],
   "source": [
    "x_mean = np.mean(x)"
   ]
  },
  {
   "cell_type": "code",
   "execution_count": 7,
   "id": "c2f517bc",
   "metadata": {},
   "outputs": [
    {
     "data": {
      "text/plain": [
       "258.71200218513786"
      ]
     },
     "execution_count": 7,
     "metadata": {},
     "output_type": "execute_result"
    }
   ],
   "source": [
    "x_mean"
   ]
  },
  {
   "cell_type": "code",
   "execution_count": 8,
   "id": "08b73f50",
   "metadata": {},
   "outputs": [],
   "source": [
    "x_std = np.std(x)"
   ]
  },
  {
   "cell_type": "code",
   "execution_count": 9,
   "id": "6ecaef46",
   "metadata": {},
   "outputs": [
    {
     "data": {
      "text/plain": [
       "253.71370151650734"
      ]
     },
     "execution_count": 9,
     "metadata": {},
     "output_type": "execute_result"
    }
   ],
   "source": [
    "x_std"
   ]
  },
  {
   "cell_type": "code",
   "execution_count": 10,
   "id": "737aff35",
   "metadata": {},
   "outputs": [],
   "source": [
    "x_3std = x_std * 3"
   ]
  },
  {
   "cell_type": "code",
   "execution_count": 11,
   "id": "d6c01757",
   "metadata": {},
   "outputs": [
    {
     "data": {
      "text/plain": [
       "761.141104549522"
      ]
     },
     "execution_count": 11,
     "metadata": {},
     "output_type": "execute_result"
    }
   ],
   "source": [
    "x_3std"
   ]
  },
  {
   "cell_type": "code",
   "execution_count": null,
   "id": "eb45e71e",
   "metadata": {},
   "outputs": [],
   "source": []
  },
  {
   "cell_type": "code",
   "execution_count": 12,
   "id": "5e303a4c",
   "metadata": {
    "scrolled": true
   },
   "outputs": [
    {
     "data": {
      "text/plain": [
       "(array([407., 119., 129.,  74.,  88.,  46.,  56.,  38.,  19.,  24.]),\n",
       " array([2.69956761e-30, 9.90791769e+01, 1.98158354e+02, 2.97237531e+02,\n",
       "        3.96316708e+02, 4.95395884e+02, 5.94475061e+02, 6.93554238e+02,\n",
       "        7.92633415e+02, 8.91712592e+02, 9.90791769e+02]),\n",
       " <BarContainer object of 10 artists>)"
      ]
     },
     "execution_count": 12,
     "metadata": {},
     "output_type": "execute_result"
    },
    {
     "data": {
      "image/png": "[encoded data removed]",
      "text/plain": [
       "<Figure size 432x288 with 1 Axes>"
      ]
     },
     "metadata": {
      "needs_background": "light"
     },
     "output_type": "display_data"
    }
   ],
   "source": [
    "plt.hist(x)"
   ]
  },
  {
   "cell_type": "code",
   "execution_count": 13,
   "id": "81ddb925",
   "metadata": {},
   "outputs": [
    {
     "data": {
      "text/plain": [
       "[<matplotlib.lines.Line2D at 0x1c537a78790>]"
      ]
     },
     "execution_count": 13,
     "metadata": {},
     "output_type": "execute_result"
    },
    {
     "data": {
      "image/png": "[encoded data removed]",
      "text/plain": [
       "<Figure size 432x288 with 1 Axes>"
      ]
     },
     "metadata": {
      "needs_background": "light"
     },
     "output_type": "display_data"
    }
   ],
   "source": [
    "plt.plot(seq, x)\n",
    "plt.plot(seq, vtoa(x_std))\n",
    "plt.plot(seq, vtoa(x_3std))"
   ]
  },
  {
   "cell_type": "code",
   "execution_count": 14,
   "id": "646171ec",
   "metadata": {},
   "outputs": [],
   "source": [
    "percentile = np.vectorize(lambda s: np.percentile(x,s))(np.linspace(1,100,100))"
   ]
  },
  {
   "cell_type": "code",
   "execution_count": 15,
   "id": "8d10b5fd",
   "metadata": {},
   "outputs": [
    {
     "data": {
      "text/plain": [
       "array([5.47734918e-02, 2.19550713e-01, 5.16392644e-01, 8.79182980e-01,\n",
       "       1.40528285e+00, 2.03227313e+00, 3.52295912e+00, 4.46515488e+00,\n",
       "       5.55970523e+00, 7.77117588e+00, 9.76802247e+00, 1.10023582e+01,\n",
       "       1.33777224e+01, 1.54696235e+01, 1.98878185e+01, 2.19924505e+01,\n",
       "       2.56992515e+01, 2.76839602e+01, 3.20949396e+01, 3.54910956e+01,\n",
       "       3.84673194e+01, 4.22426293e+01, 4.60747541e+01, 5.11057056e+01,\n",
       "       5.47668689e+01, 5.78446276e+01, 5.98315618e+01, 6.30087904e+01,\n",
       "       6.71627415e+01, 7.20478765e+01, 7.46282728e+01, 7.77983618e+01,\n",
       "       7.85250125e+01, 8.18446063e+01, 8.76755066e+01, 9.08987005e+01,\n",
       "       9.20646742e+01, 9.47645819e+01, 9.64625327e+01, 9.74465861e+01,\n",
       "       1.05733083e+02, 1.13187540e+02, 1.16984567e+02, 1.24131306e+02,\n",
       "       1.33655228e+02, 1.43116374e+02, 1.51465869e+02, 1.59375820e+02,\n",
       "       1.65210731e+02, 1.72547897e+02, 1.87024996e+02, 1.93052428e+02,\n",
       "       2.00279600e+02, 2.08940202e+02, 2.13155492e+02, 2.17984549e+02,\n",
       "       2.31373253e+02, 2.43592604e+02, 2.52761729e+02, 2.59093888e+02,\n",
       "       2.63155541e+02, 2.67872862e+02, 2.71598312e+02, 2.72937455e+02,\n",
       "       2.87543804e+02, 3.00605012e+02, 3.13041381e+02, 3.26632983e+02,\n",
       "       3.39476429e+02, 3.57848449e+02, 3.69379812e+02, 3.85316317e+02,\n",
       "       3.96972075e+02, 4.10251608e+02, 4.19121972e+02, 4.26815872e+02,\n",
       "       4.36420503e+02, 4.47454347e+02, 4.51469276e+02, 4.67566558e+02,\n",
       "       4.80395749e+02, 5.06540470e+02, 5.22679299e+02, 5.53583998e+02,\n",
       "       5.59687422e+02, 5.85108915e+02, 6.09952387e+02, 6.20252423e+02,\n",
       "       6.25817670e+02, 6.30914978e+02, 6.55968328e+02, 6.96152270e+02,\n",
       "       7.25907294e+02, 7.63259510e+02, 7.78748831e+02, 8.02186494e+02,\n",
       "       8.20122912e+02, 9.50990753e+02, 9.87454426e+02, 9.90791769e+02])"
      ]
     },
     "execution_count": 15,
     "metadata": {},
     "output_type": "execute_result"
    }
   ],
   "source": [
    "percentile"
   ]
  },
  {
   "cell_type": "code",
   "execution_count": 16,
   "id": "28b34136",
   "metadata": {},
   "outputs": [
    {
     "data": {
      "text/plain": [
       "[<matplotlib.lines.Line2D at 0x1c537ae2ee0>]"
      ]
     },
     "execution_count": 16,
     "metadata": {},
     "output_type": "execute_result"
    },
    {
     "data": {
      "image/png": "[encoded data removed]",
      "text/plain": [
       "<Figure size 432x288 with 1 Axes>"
      ]
     },
     "metadata": {
      "needs_background": "light"
     },
     "output_type": "display_data"
    }
   ],
   "source": [
    "plt.plot(np.linspace(1,100,100), percentile)\n",
    "plt.plot(np.linspace(95,95,100), np.linspace(1,1000,100))"
   ]
  },
  {
   "cell_type": "code",
   "execution_count": null,
   "id": "3b970258",
   "metadata": {},
   "outputs": [],
   "source": []
  },
  {
   "cell_type": "code",
   "execution_count": null,
   "id": "afc0cd54",
   "metadata": {},
   "outputs": [],
   "source": []
  }
 ],
 "metadata": {
  "kernelspec": {
   "display_name": "Python 3 (ipykernel)",
   "language": "python",
   "name": "python3"
  },
  "language_info": {
   "codemirror_mode": {
    "name": "ipython",
    "version": 3
   },
   "file_extension": ".py",
   "mimetype": "text/x-python",
   "name": "python",
   "nbconvert_exporter": "python",
   "pygments_lexer": "ipython3",
   "version": "3.9.7"
  }
 },
 "nbformat": 4,
 "nbformat_minor": 5
}
