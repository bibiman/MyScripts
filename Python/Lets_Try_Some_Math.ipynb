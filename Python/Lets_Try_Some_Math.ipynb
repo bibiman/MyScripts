{
 "cells": [
  {
   "cell_type": "code",
   "execution_count": 55,
   "id": "03207e6b",
   "metadata": {},
   "outputs": [],
   "source": [
    "import numpy as np\n",
    "from math import pi as pi\n",
    "import matplotlib.pyplot as plt\n",
    "import matplotlib as mpl"
   ]
  },
  {
   "cell_type": "code",
   "execution_count": 54,
   "id": "a1499e52",
   "metadata": {},
   "outputs": [],
   "source": [
    "x = np.linspace(1,360,360)"
   ]
  },
  {
   "cell_type": "code",
   "execution_count": 49,
   "id": "90ceddfa",
   "metadata": {},
   "outputs": [
    {
     "data": {
      "text/plain": [
       "array([  1.,   2.,   3.,   4.,   5.,   6.,   7.,   8.,   9.,  10.,  11.,\n",
       "        12.,  13.,  14.,  15.,  16.,  17.,  18.,  19.,  20.,  21.,  22.,\n",
       "        23.,  24.,  25.,  26.,  27.,  28.,  29.,  30.,  31.,  32.,  33.,\n",
       "        34.,  35.,  36.,  37.,  38.,  39.,  40.,  41.,  42.,  43.,  44.,\n",
       "        45.,  46.,  47.,  48.,  49.,  50.,  51.,  52.,  53.,  54.,  55.,\n",
       "        56.,  57.,  58.,  59.,  60.,  61.,  62.,  63.,  64.,  65.,  66.,\n",
       "        67.,  68.,  69.,  70.,  71.,  72.,  73.,  74.,  75.,  76.,  77.,\n",
       "        78.,  79.,  80.,  81.,  82.,  83.,  84.,  85.,  86.,  87.,  88.,\n",
       "        89.,  90.,  91.,  92.,  93.,  94.,  95.,  96.,  97.,  98.,  99.,\n",
       "       100., 101., 102., 103., 104., 105., 106., 107., 108., 109., 110.,\n",
       "       111., 112., 113., 114., 115., 116., 117., 118., 119., 120., 121.,\n",
       "       122., 123., 124., 125., 126., 127., 128., 129., 130., 131., 132.,\n",
       "       133., 134., 135., 136., 137., 138., 139., 140., 141., 142., 143.,\n",
       "       144., 145., 146., 147., 148., 149., 150., 151., 152., 153., 154.,\n",
       "       155., 156., 157., 158., 159., 160., 161., 162., 163., 164., 165.,\n",
       "       166., 167., 168., 169., 170., 171., 172., 173., 174., 175., 176.,\n",
       "       177., 178., 179., 180., 181., 182., 183., 184., 185., 186., 187.,\n",
       "       188., 189., 190., 191., 192., 193., 194., 195., 196., 197., 198.,\n",
       "       199., 200., 201., 202., 203., 204., 205., 206., 207., 208., 209.,\n",
       "       210., 211., 212., 213., 214., 215., 216., 217., 218., 219., 220.,\n",
       "       221., 222., 223., 224., 225., 226., 227., 228., 229., 230., 231.,\n",
       "       232., 233., 234., 235., 236., 237., 238., 239., 240., 241., 242.,\n",
       "       243., 244., 245., 246., 247., 248., 249., 250., 251., 252., 253.,\n",
       "       254., 255., 256., 257., 258., 259., 260., 261., 262., 263., 264.,\n",
       "       265., 266., 267., 268., 269., 270., 271., 272., 273., 274., 275.,\n",
       "       276., 277., 278., 279., 280., 281., 282., 283., 284., 285., 286.,\n",
       "       287., 288., 289., 290., 291., 292., 293., 294., 295., 296., 297.,\n",
       "       298., 299., 300., 301., 302., 303., 304., 305., 306., 307., 308.,\n",
       "       309., 310., 311., 312., 313., 314., 315., 316., 317., 318., 319.,\n",
       "       320., 321., 322., 323., 324., 325., 326., 327., 328., 329., 330.,\n",
       "       331., 332., 333., 334., 335., 336., 337., 338., 339., 340., 341.,\n",
       "       342., 343., 344., 345., 346., 347., 348., 349., 350., 351., 352.,\n",
       "       353., 354., 355., 356., 357., 358., 359., 360.])"
      ]
     },
     "execution_count": 49,
     "metadata": {},
     "output_type": "execute_result"
    }
   ],
   "source": [
    "x"
   ]
  },
  {
   "cell_type": "code",
   "execution_count": 56,
   "id": "cd8e5298",
   "metadata": {},
   "outputs": [],
   "source": [
    "y = np.sin(x*pi/180)\n",
    "#y = np.linspace(1,1000,1000)\n",
    "#y = np.random.randint(1,50,50)\n",
    "#y = np.repeat(1000,100)"
   ]
  },
  {
   "cell_type": "code",
   "execution_count": 57,
   "id": "67aab277",
   "metadata": {},
   "outputs": [],
   "source": [
    "#y = x**2\n",
    "#y=np.array([ 81.,  64.,  49.,  36.,  25.,  16.,   9.,   4.,   1.,   0.,   1., 4.,   9.,  16.,  25.,  36.,  49.,  64.,  81., 100.])"
   ]
  },
  {
   "cell_type": "code",
   "execution_count": 58,
   "id": "75739742",
   "metadata": {},
   "outputs": [
    {
     "data": {
      "text/plain": [
       "array([ 1.74524064e-02,  3.48994967e-02,  5.23359562e-02,  6.97564737e-02,\n",
       "        8.71557427e-02,  1.04528463e-01,  1.21869343e-01,  1.39173101e-01,\n",
       "        1.56434465e-01,  1.73648178e-01,  1.90808995e-01,  2.07911691e-01,\n",
       "        2.24951054e-01,  2.41921896e-01,  2.58819045e-01,  2.75637356e-01,\n",
       "        2.92371705e-01,  3.09016994e-01,  3.25568154e-01,  3.42020143e-01,\n",
       "        3.58367950e-01,  3.74606593e-01,  3.90731128e-01,  4.06736643e-01,\n",
       "        4.22618262e-01,  4.38371147e-01,  4.53990500e-01,  4.69471563e-01,\n",
       "        4.84809620e-01,  5.00000000e-01,  5.15038075e-01,  5.29919264e-01,\n",
       "        5.44639035e-01,  5.59192903e-01,  5.73576436e-01,  5.87785252e-01,\n",
       "        6.01815023e-01,  6.15661475e-01,  6.29320391e-01,  6.42787610e-01,\n",
       "        6.56059029e-01,  6.69130606e-01,  6.81998360e-01,  6.94658370e-01,\n",
       "        7.07106781e-01,  7.19339800e-01,  7.31353702e-01,  7.43144825e-01,\n",
       "        7.54709580e-01,  7.66044443e-01,  7.77145961e-01,  7.88010754e-01,\n",
       "        7.98635510e-01,  8.09016994e-01,  8.19152044e-01,  8.29037573e-01,\n",
       "        8.38670568e-01,  8.48048096e-01,  8.57167301e-01,  8.66025404e-01,\n",
       "        8.74619707e-01,  8.82947593e-01,  8.91006524e-01,  8.98794046e-01,\n",
       "        9.06307787e-01,  9.13545458e-01,  9.20504853e-01,  9.27183855e-01,\n",
       "        9.33580426e-01,  9.39692621e-01,  9.45518576e-01,  9.51056516e-01,\n",
       "        9.56304756e-01,  9.61261696e-01,  9.65925826e-01,  9.70295726e-01,\n",
       "        9.74370065e-01,  9.78147601e-01,  9.81627183e-01,  9.84807753e-01,\n",
       "        9.87688341e-01,  9.90268069e-01,  9.92546152e-01,  9.94521895e-01,\n",
       "        9.96194698e-01,  9.97564050e-01,  9.98629535e-01,  9.99390827e-01,\n",
       "        9.99847695e-01,  1.00000000e+00,  9.99847695e-01,  9.99390827e-01,\n",
       "        9.98629535e-01,  9.97564050e-01,  9.96194698e-01,  9.94521895e-01,\n",
       "        9.92546152e-01,  9.90268069e-01,  9.87688341e-01,  9.84807753e-01,\n",
       "        9.81627183e-01,  9.78147601e-01,  9.74370065e-01,  9.70295726e-01,\n",
       "        9.65925826e-01,  9.61261696e-01,  9.56304756e-01,  9.51056516e-01,\n",
       "        9.45518576e-01,  9.39692621e-01,  9.33580426e-01,  9.27183855e-01,\n",
       "        9.20504853e-01,  9.13545458e-01,  9.06307787e-01,  8.98794046e-01,\n",
       "        8.91006524e-01,  8.82947593e-01,  8.74619707e-01,  8.66025404e-01,\n",
       "        8.57167301e-01,  8.48048096e-01,  8.38670568e-01,  8.29037573e-01,\n",
       "        8.19152044e-01,  8.09016994e-01,  7.98635510e-01,  7.88010754e-01,\n",
       "        7.77145961e-01,  7.66044443e-01,  7.54709580e-01,  7.43144825e-01,\n",
       "        7.31353702e-01,  7.19339800e-01,  7.07106781e-01,  6.94658370e-01,\n",
       "        6.81998360e-01,  6.69130606e-01,  6.56059029e-01,  6.42787610e-01,\n",
       "        6.29320391e-01,  6.15661475e-01,  6.01815023e-01,  5.87785252e-01,\n",
       "        5.73576436e-01,  5.59192903e-01,  5.44639035e-01,  5.29919264e-01,\n",
       "        5.15038075e-01,  5.00000000e-01,  4.84809620e-01,  4.69471563e-01,\n",
       "        4.53990500e-01,  4.38371147e-01,  4.22618262e-01,  4.06736643e-01,\n",
       "        3.90731128e-01,  3.74606593e-01,  3.58367950e-01,  3.42020143e-01,\n",
       "        3.25568154e-01,  3.09016994e-01,  2.92371705e-01,  2.75637356e-01,\n",
       "        2.58819045e-01,  2.41921896e-01,  2.24951054e-01,  2.07911691e-01,\n",
       "        1.90808995e-01,  1.73648178e-01,  1.56434465e-01,  1.39173101e-01,\n",
       "        1.21869343e-01,  1.04528463e-01,  8.71557427e-02,  6.97564737e-02,\n",
       "        5.23359562e-02,  3.48994967e-02,  1.74524064e-02,  1.22464680e-16,\n",
       "       -1.74524064e-02, -3.48994967e-02, -5.23359562e-02, -6.97564737e-02,\n",
       "       -8.71557427e-02, -1.04528463e-01, -1.21869343e-01, -1.39173101e-01,\n",
       "       -1.56434465e-01, -1.73648178e-01, -1.90808995e-01, -2.07911691e-01,\n",
       "       -2.24951054e-01, -2.41921896e-01, -2.58819045e-01, -2.75637356e-01,\n",
       "       -2.92371705e-01, -3.09016994e-01, -3.25568154e-01, -3.42020143e-01,\n",
       "       -3.58367950e-01, -3.74606593e-01, -3.90731128e-01, -4.06736643e-01,\n",
       "       -4.22618262e-01, -4.38371147e-01, -4.53990500e-01, -4.69471563e-01,\n",
       "       -4.84809620e-01, -5.00000000e-01, -5.15038075e-01, -5.29919264e-01,\n",
       "       -5.44639035e-01, -5.59192903e-01, -5.73576436e-01, -5.87785252e-01,\n",
       "       -6.01815023e-01, -6.15661475e-01, -6.29320391e-01, -6.42787610e-01,\n",
       "       -6.56059029e-01, -6.69130606e-01, -6.81998360e-01, -6.94658370e-01,\n",
       "       -7.07106781e-01, -7.19339800e-01, -7.31353702e-01, -7.43144825e-01,\n",
       "       -7.54709580e-01, -7.66044443e-01, -7.77145961e-01, -7.88010754e-01,\n",
       "       -7.98635510e-01, -8.09016994e-01, -8.19152044e-01, -8.29037573e-01,\n",
       "       -8.38670568e-01, -8.48048096e-01, -8.57167301e-01, -8.66025404e-01,\n",
       "       -8.74619707e-01, -8.82947593e-01, -8.91006524e-01, -8.98794046e-01,\n",
       "       -9.06307787e-01, -9.13545458e-01, -9.20504853e-01, -9.27183855e-01,\n",
       "       -9.33580426e-01, -9.39692621e-01, -9.45518576e-01, -9.51056516e-01,\n",
       "       -9.56304756e-01, -9.61261696e-01, -9.65925826e-01, -9.70295726e-01,\n",
       "       -9.74370065e-01, -9.78147601e-01, -9.81627183e-01, -9.84807753e-01,\n",
       "       -9.87688341e-01, -9.90268069e-01, -9.92546152e-01, -9.94521895e-01,\n",
       "       -9.96194698e-01, -9.97564050e-01, -9.98629535e-01, -9.99390827e-01,\n",
       "       -9.99847695e-01, -1.00000000e+00, -9.99847695e-01, -9.99390827e-01,\n",
       "       -9.98629535e-01, -9.97564050e-01, -9.96194698e-01, -9.94521895e-01,\n",
       "       -9.92546152e-01, -9.90268069e-01, -9.87688341e-01, -9.84807753e-01,\n",
       "       -9.81627183e-01, -9.78147601e-01, -9.74370065e-01, -9.70295726e-01,\n",
       "       -9.65925826e-01, -9.61261696e-01, -9.56304756e-01, -9.51056516e-01,\n",
       "       -9.45518576e-01, -9.39692621e-01, -9.33580426e-01, -9.27183855e-01,\n",
       "       -9.20504853e-01, -9.13545458e-01, -9.06307787e-01, -8.98794046e-01,\n",
       "       -8.91006524e-01, -8.82947593e-01, -8.74619707e-01, -8.66025404e-01,\n",
       "       -8.57167301e-01, -8.48048096e-01, -8.38670568e-01, -8.29037573e-01,\n",
       "       -8.19152044e-01, -8.09016994e-01, -7.98635510e-01, -7.88010754e-01,\n",
       "       -7.77145961e-01, -7.66044443e-01, -7.54709580e-01, -7.43144825e-01,\n",
       "       -7.31353702e-01, -7.19339800e-01, -7.07106781e-01, -6.94658370e-01,\n",
       "       -6.81998360e-01, -6.69130606e-01, -6.56059029e-01, -6.42787610e-01,\n",
       "       -6.29320391e-01, -6.15661475e-01, -6.01815023e-01, -5.87785252e-01,\n",
       "       -5.73576436e-01, -5.59192903e-01, -5.44639035e-01, -5.29919264e-01,\n",
       "       -5.15038075e-01, -5.00000000e-01, -4.84809620e-01, -4.69471563e-01,\n",
       "       -4.53990500e-01, -4.38371147e-01, -4.22618262e-01, -4.06736643e-01,\n",
       "       -3.90731128e-01, -3.74606593e-01, -3.58367950e-01, -3.42020143e-01,\n",
       "       -3.25568154e-01, -3.09016994e-01, -2.92371705e-01, -2.75637356e-01,\n",
       "       -2.58819045e-01, -2.41921896e-01, -2.24951054e-01, -2.07911691e-01,\n",
       "       -1.90808995e-01, -1.73648178e-01, -1.56434465e-01, -1.39173101e-01,\n",
       "       -1.21869343e-01, -1.04528463e-01, -8.71557427e-02, -6.97564737e-02,\n",
       "       -5.23359562e-02, -3.48994967e-02, -1.74524064e-02, -2.44929360e-16])"
      ]
     },
     "execution_count": 58,
     "metadata": {},
     "output_type": "execute_result"
    }
   ],
   "source": [
    "y"
   ]
  },
  {
   "cell_type": "code",
   "execution_count": 59,
   "id": "97458e0d",
   "metadata": {},
   "outputs": [],
   "source": [
    "x_o = x[:-1]\n",
    "x_1 = x[1:]\n",
    "y_o = y[:-1]\n",
    "y_1 = y[1:]\n",
    "slop = (y_1-y_o)/(x_1-x_o)"
   ]
  },
  {
   "cell_type": "code",
   "execution_count": 60,
   "id": "023c2f48",
   "metadata": {
    "scrolled": true
   },
   "outputs": [],
   "source": [
    "slop = np.append([0],slop)"
   ]
  },
  {
   "cell_type": "code",
   "execution_count": 61,
   "id": "93e899fb",
   "metadata": {},
   "outputs": [
    {
     "data": {
      "text/plain": [
       "array([ 0.        ,  0.01744709,  0.01743646,  0.01742052,  0.01739927,\n",
       "        0.01737272,  0.01734088,  0.01730376,  0.01726136,  0.01721371,\n",
       "        0.01716082,  0.0171027 ,  0.01703936,  0.01697084,  0.01689715,\n",
       "        0.01681831,  0.01673435,  0.01664529,  0.01655116,  0.01645199,\n",
       "        0.01634781,  0.01623864,  0.01612454,  0.01600551,  0.01588162,\n",
       "        0.01575289,  0.01561935,  0.01548106,  0.01533806,  0.01519038,\n",
       "        0.01503807,  0.01488119,  0.01471977,  0.01455387,  0.01438353,\n",
       "        0.01420882,  0.01402977,  0.01384645,  0.01365892,  0.01346722,\n",
       "        0.01327142,  0.01307158,  0.01286775,  0.01266001,  0.01244841,\n",
       "        0.01223302,  0.0120139 ,  0.01179112,  0.01156475,  0.01133486,\n",
       "        0.01110152,  0.01086479,  0.01062476,  0.01038148,  0.01013505,\n",
       "        0.00988553,  0.009633  ,  0.00937753,  0.0091192 ,  0.0088581 ,\n",
       "        0.0085943 ,  0.00832789,  0.00805893,  0.00778752,  0.00751374,\n",
       "        0.00723767,  0.0069594 ,  0.006679  ,  0.00639657,  0.00611219,\n",
       "        0.00582595,  0.00553794,  0.00524824,  0.00495694,  0.00466413,\n",
       "        0.0043699 ,  0.00407434,  0.00377754,  0.00347958,  0.00318057,\n",
       "        0.00288059,  0.00257973,  0.00227808,  0.00197574,  0.0016728 ,\n",
       "        0.00136935,  0.00106548,  0.00076129,  0.00045687,  0.0001523 ,\n",
       "       -0.0001523 , -0.00045687, -0.00076129, -0.00106548, -0.00136935,\n",
       "       -0.0016728 , -0.00197574, -0.00227808, -0.00257973, -0.00288059,\n",
       "       -0.00318057, -0.00347958, -0.00377754, -0.00407434, -0.0043699 ,\n",
       "       -0.00466413, -0.00495694, -0.00524824, -0.00553794, -0.00582595,\n",
       "       -0.00611219, -0.00639657, -0.006679  , -0.0069594 , -0.00723767,\n",
       "       -0.00751374, -0.00778752, -0.00805893, -0.00832789, -0.0085943 ,\n",
       "       -0.0088581 , -0.0091192 , -0.00937753, -0.009633  , -0.00988553,\n",
       "       -0.01013505, -0.01038148, -0.01062476, -0.01086479, -0.01110152,\n",
       "       -0.01133486, -0.01156475, -0.01179112, -0.0120139 , -0.01223302,\n",
       "       -0.01244841, -0.01266001, -0.01286775, -0.01307158, -0.01327142,\n",
       "       -0.01346722, -0.01365892, -0.01384645, -0.01402977, -0.01420882,\n",
       "       -0.01438353, -0.01455387, -0.01471977, -0.01488119, -0.01503807,\n",
       "       -0.01519038, -0.01533806, -0.01548106, -0.01561935, -0.01575289,\n",
       "       -0.01588162, -0.01600551, -0.01612454, -0.01623864, -0.01634781,\n",
       "       -0.01645199, -0.01655116, -0.01664529, -0.01673435, -0.01681831,\n",
       "       -0.01689715, -0.01697084, -0.01703936, -0.0171027 , -0.01716082,\n",
       "       -0.01721371, -0.01726136, -0.01730376, -0.01734088, -0.01737272,\n",
       "       -0.01739927, -0.01742052, -0.01743646, -0.01744709, -0.01745241,\n",
       "       -0.01745241, -0.01744709, -0.01743646, -0.01742052, -0.01739927,\n",
       "       -0.01737272, -0.01734088, -0.01730376, -0.01726136, -0.01721371,\n",
       "       -0.01716082, -0.0171027 , -0.01703936, -0.01697084, -0.01689715,\n",
       "       -0.01681831, -0.01673435, -0.01664529, -0.01655116, -0.01645199,\n",
       "       -0.01634781, -0.01623864, -0.01612454, -0.01600551, -0.01588162,\n",
       "       -0.01575289, -0.01561935, -0.01548106, -0.01533806, -0.01519038,\n",
       "       -0.01503807, -0.01488119, -0.01471977, -0.01455387, -0.01438353,\n",
       "       -0.01420882, -0.01402977, -0.01384645, -0.01365892, -0.01346722,\n",
       "       -0.01327142, -0.01307158, -0.01286775, -0.01266001, -0.01244841,\n",
       "       -0.01223302, -0.0120139 , -0.01179112, -0.01156475, -0.01133486,\n",
       "       -0.01110152, -0.01086479, -0.01062476, -0.01038148, -0.01013505,\n",
       "       -0.00988553, -0.009633  , -0.00937753, -0.0091192 , -0.0088581 ,\n",
       "       -0.0085943 , -0.00832789, -0.00805893, -0.00778752, -0.00751374,\n",
       "       -0.00723767, -0.0069594 , -0.006679  , -0.00639657, -0.00611219,\n",
       "       -0.00582595, -0.00553794, -0.00524824, -0.00495694, -0.00466413,\n",
       "       -0.0043699 , -0.00407434, -0.00377754, -0.00347958, -0.00318057,\n",
       "       -0.00288059, -0.00257973, -0.00227808, -0.00197574, -0.0016728 ,\n",
       "       -0.00136935, -0.00106548, -0.00076129, -0.00045687, -0.0001523 ,\n",
       "        0.0001523 ,  0.00045687,  0.00076129,  0.00106548,  0.00136935,\n",
       "        0.0016728 ,  0.00197574,  0.00227808,  0.00257973,  0.00288059,\n",
       "        0.00318057,  0.00347958,  0.00377754,  0.00407434,  0.0043699 ,\n",
       "        0.00466413,  0.00495694,  0.00524824,  0.00553794,  0.00582595,\n",
       "        0.00611219,  0.00639657,  0.006679  ,  0.0069594 ,  0.00723767,\n",
       "        0.00751374,  0.00778752,  0.00805893,  0.00832789,  0.0085943 ,\n",
       "        0.0088581 ,  0.0091192 ,  0.00937753,  0.009633  ,  0.00988553,\n",
       "        0.01013505,  0.01038148,  0.01062476,  0.01086479,  0.01110152,\n",
       "        0.01133486,  0.01156475,  0.01179112,  0.0120139 ,  0.01223302,\n",
       "        0.01244841,  0.01266001,  0.01286775,  0.01307158,  0.01327142,\n",
       "        0.01346722,  0.01365892,  0.01384645,  0.01402977,  0.01420882,\n",
       "        0.01438353,  0.01455387,  0.01471977,  0.01488119,  0.01503807,\n",
       "        0.01519038,  0.01533806,  0.01548106,  0.01561935,  0.01575289,\n",
       "        0.01588162,  0.01600551,  0.01612454,  0.01623864,  0.01634781,\n",
       "        0.01645199,  0.01655116,  0.01664529,  0.01673435,  0.01681831,\n",
       "        0.01689715,  0.01697084,  0.01703936,  0.0171027 ,  0.01716082,\n",
       "        0.01721371,  0.01726136,  0.01730376,  0.01734088,  0.01737272,\n",
       "        0.01739927,  0.01742052,  0.01743646,  0.01744709,  0.01745241])"
      ]
     },
     "execution_count": 61,
     "metadata": {},
     "output_type": "execute_result"
    }
   ],
   "source": [
    "slop"
   ]
  },
  {
   "cell_type": "code",
   "execution_count": 82,
   "id": "1488e330",
   "metadata": {},
   "outputs": [],
   "source": [
    "slop_c_pre = slop[1:] * slop[:-1]\n",
    "rootss = x[:-1][slop_c_pre<0]\n",
    "b_slop = [slop_c_pre<0]\n",
    "slop_c = np.vectorize(lambda x: 1 if x else 0)(b_slop)[0]"
   ]
  },
  {
   "cell_type": "code",
   "execution_count": 83,
   "id": "45b3977f",
   "metadata": {},
   "outputs": [
    {
     "data": {
      "text/plain": [
       "array([0, 0, 0, 0, 0, 0, 0, 0, 0, 0, 0, 0, 0, 0, 0, 0, 0, 0, 0, 0, 0, 0,\n",
       "       0, 0, 0, 0, 0, 0, 0, 0, 0, 0, 0, 0, 0, 0, 0, 0, 0, 0, 0, 0, 0, 0,\n",
       "       0, 0, 0, 0, 0, 0, 0, 0, 0, 0, 0, 0, 0, 0, 0, 0, 0, 0, 0, 0, 0, 0,\n",
       "       0, 0, 0, 0, 0, 0, 0, 0, 0, 0, 0, 0, 0, 0, 0, 0, 0, 0, 0, 0, 0, 0,\n",
       "       0, 1, 0, 0, 0, 0, 0, 0, 0, 0, 0, 0, 0, 0, 0, 0, 0, 0, 0, 0, 0, 0,\n",
       "       0, 0, 0, 0, 0, 0, 0, 0, 0, 0, 0, 0, 0, 0, 0, 0, 0, 0, 0, 0, 0, 0,\n",
       "       0, 0, 0, 0, 0, 0, 0, 0, 0, 0, 0, 0, 0, 0, 0, 0, 0, 0, 0, 0, 0, 0,\n",
       "       0, 0, 0, 0, 0, 0, 0, 0, 0, 0, 0, 0, 0, 0, 0, 0, 0, 0, 0, 0, 0, 0,\n",
       "       0, 0, 0, 0, 0, 0, 0, 0, 0, 0, 0, 0, 0, 0, 0, 0, 0, 0, 0, 0, 0, 0,\n",
       "       0, 0, 0, 0, 0, 0, 0, 0, 0, 0, 0, 0, 0, 0, 0, 0, 0, 0, 0, 0, 0, 0,\n",
       "       0, 0, 0, 0, 0, 0, 0, 0, 0, 0, 0, 0, 0, 0, 0, 0, 0, 0, 0, 0, 0, 0,\n",
       "       0, 0, 0, 0, 0, 0, 0, 0, 0, 0, 0, 0, 0, 0, 0, 0, 0, 0, 0, 0, 0, 0,\n",
       "       0, 0, 0, 0, 0, 1, 0, 0, 0, 0, 0, 0, 0, 0, 0, 0, 0, 0, 0, 0, 0, 0,\n",
       "       0, 0, 0, 0, 0, 0, 0, 0, 0, 0, 0, 0, 0, 0, 0, 0, 0, 0, 0, 0, 0, 0,\n",
       "       0, 0, 0, 0, 0, 0, 0, 0, 0, 0, 0, 0, 0, 0, 0, 0, 0, 0, 0, 0, 0, 0,\n",
       "       0, 0, 0, 0, 0, 0, 0, 0, 0, 0, 0, 0, 0, 0, 0, 0, 0, 0, 0, 0, 0, 0,\n",
       "       0, 0, 0, 0, 0, 0, 0])"
      ]
     },
     "execution_count": 83,
     "metadata": {},
     "output_type": "execute_result"
    }
   ],
   "source": [
    "slop_c"
   ]
  },
  {
   "cell_type": "code",
   "execution_count": 84,
   "id": "5686851d",
   "metadata": {},
   "outputs": [
    {
     "data": {
      "image/png": "[encoded data removed]",
      "text/plain": [
       "<Figure size 576x396 with 1 Axes>"
      ]
     },
     "metadata": {},
     "output_type": "display_data"
    }
   ],
   "source": [
    "plt.plot(x,y)\n",
    "plt.grid()\n",
    "plt.show()"
   ]
  },
  {
   "cell_type": "code",
   "execution_count": 85,
   "id": "2c20682a",
   "metadata": {},
   "outputs": [
    {
     "data": {
      "text/plain": [
       "array([0, 0, 0, 0, 0, 0, 0, 0, 0, 0, 0, 0, 0, 0, 0, 0, 0, 0, 0, 0, 0, 0,\n",
       "       0, 0, 0, 0, 0, 0, 0, 0, 0, 0, 0, 0, 0, 0, 0, 0, 0, 0, 0, 0, 0, 0,\n",
       "       0, 0, 0, 0, 0, 0, 0, 0, 0, 0, 0, 0, 0, 0, 0, 0, 0, 0, 0, 0, 0, 0,\n",
       "       0, 0, 0, 0, 0, 0, 0, 0, 0, 0, 0, 0, 0, 0, 0, 0, 0, 0, 0, 0, 0, 0,\n",
       "       0, 1, 0, 0, 0, 0, 0, 0, 0, 0, 0, 0, 0, 0, 0, 0, 0, 0, 0, 0, 0, 0,\n",
       "       0, 0, 0, 0, 0, 0, 0, 0, 0, 0, 0, 0, 0, 0, 0, 0, 0, 0, 0, 0, 0, 0,\n",
       "       0, 0, 0, 0, 0, 0, 0, 0, 0, 0, 0, 0, 0, 0, 0, 0, 0, 0, 0, 0, 0, 0,\n",
       "       0, 0, 0, 0, 0, 0, 0, 0, 0, 0, 0, 0, 0, 0, 0, 0, 0, 0, 0, 0, 0, 0,\n",
       "       0, 0, 0, 0, 0, 0, 0, 0, 0, 0, 0, 0, 0, 0, 0, 0, 0, 0, 0, 0, 0, 0,\n",
       "       0, 0, 0, 0, 0, 0, 0, 0, 0, 0, 0, 0, 0, 0, 0, 0, 0, 0, 0, 0, 0, 0,\n",
       "       0, 0, 0, 0, 0, 0, 0, 0, 0, 0, 0, 0, 0, 0, 0, 0, 0, 0, 0, 0, 0, 0,\n",
       "       0, 0, 0, 0, 0, 0, 0, 0, 0, 0, 0, 0, 0, 0, 0, 0, 0, 0, 0, 0, 0, 0,\n",
       "       0, 0, 0, 0, 0, 1, 0, 0, 0, 0, 0, 0, 0, 0, 0, 0, 0, 0, 0, 0, 0, 0,\n",
       "       0, 0, 0, 0, 0, 0, 0, 0, 0, 0, 0, 0, 0, 0, 0, 0, 0, 0, 0, 0, 0, 0,\n",
       "       0, 0, 0, 0, 0, 0, 0, 0, 0, 0, 0, 0, 0, 0, 0, 0, 0, 0, 0, 0, 0, 0,\n",
       "       0, 0, 0, 0, 0, 0, 0, 0, 0, 0, 0, 0, 0, 0, 0, 0, 0, 0, 0, 0, 0, 0,\n",
       "       0, 0, 0, 0, 0, 0, 0])"
      ]
     },
     "execution_count": 85,
     "metadata": {},
     "output_type": "execute_result"
    }
   ],
   "source": [
    "slop_c"
   ]
  },
  {
   "cell_type": "code",
   "execution_count": 86,
   "id": "45abc5e3",
   "metadata": {},
   "outputs": [
    {
     "data": {
      "image/png": "[encoded data removed]",
      "text/plain": [
       "<Figure size 576x396 with 1 Axes>"
      ]
     },
     "metadata": {},
     "output_type": "display_data"
    }
   ],
   "source": [
    "plt.plot(x[1:],slop_c)\n",
    "plt.grid()\n",
    "plt.show()"
   ]
  },
  {
   "cell_type": "code",
   "execution_count": 106,
   "id": "c327aae6",
   "metadata": {},
   "outputs": [],
   "source": [
    "dydx = np.gradient(y) #derivative\n",
    "slop_change = dydx[1:] * dydx[:-1]\n",
    "roots = x[:-1][slop_change<0]\n",
    "slop_c_dydx = np.vectorize(lambda x: 1 if x else 0)(slop_change<=0)\n",
    "slop_c_dydx = np.append(slop_c_dydx,[0])"
   ]
  },
  {
   "cell_type": "code",
   "execution_count": 107,
   "id": "9605210d",
   "metadata": {},
   "outputs": [
    {
     "data": {
      "text/plain": [
       "array([0, 0, 0, 0, 0, 0, 0, 0, 0, 0, 0, 0, 0, 0, 0, 0, 0, 0, 0, 0, 0, 0,\n",
       "       0, 0, 0, 0, 0, 0, 0, 0, 0, 0, 0, 0, 0, 0, 0, 0, 0, 0, 0, 0, 0, 0,\n",
       "       0, 0, 0, 0, 0, 0, 0, 0, 0, 0, 0, 0, 0, 0, 0, 0, 0, 0, 0, 0, 0, 0,\n",
       "       0, 0, 0, 0, 0, 0, 0, 0, 0, 0, 0, 0, 0, 0, 0, 0, 0, 0, 0, 0, 0, 0,\n",
       "       1, 1, 0, 0, 0, 0, 0, 0, 0, 0, 0, 0, 0, 0, 0, 0, 0, 0, 0, 0, 0, 0,\n",
       "       0, 0, 0, 0, 0, 0, 0, 0, 0, 0, 0, 0, 0, 0, 0, 0, 0, 0, 0, 0, 0, 0,\n",
       "       0, 0, 0, 0, 0, 0, 0, 0, 0, 0, 0, 0, 0, 0, 0, 0, 0, 0, 0, 0, 0, 0,\n",
       "       0, 0, 0, 0, 0, 0, 0, 0, 0, 0, 0, 0, 0, 0, 0, 0, 0, 0, 0, 0, 0, 0,\n",
       "       0, 0, 0, 0, 0, 0, 0, 0, 0, 0, 0, 0, 0, 0, 0, 0, 0, 0, 0, 0, 0, 0,\n",
       "       0, 0, 0, 0, 0, 0, 0, 0, 0, 0, 0, 0, 0, 0, 0, 0, 0, 0, 0, 0, 0, 0,\n",
       "       0, 0, 0, 0, 0, 0, 0, 0, 0, 0, 0, 0, 0, 0, 0, 0, 0, 0, 0, 0, 0, 0,\n",
       "       0, 0, 0, 0, 0, 0, 0, 0, 0, 0, 0, 0, 0, 0, 0, 0, 0, 0, 0, 0, 0, 0,\n",
       "       0, 0, 0, 0, 1, 1, 0, 0, 0, 0, 0, 0, 0, 0, 0, 0, 0, 0, 0, 0, 0, 0,\n",
       "       0, 0, 0, 0, 0, 0, 0, 0, 0, 0, 0, 0, 0, 0, 0, 0, 0, 0, 0, 0, 0, 0,\n",
       "       0, 0, 0, 0, 0, 0, 0, 0, 0, 0, 0, 0, 0, 0, 0, 0, 0, 0, 0, 0, 0, 0,\n",
       "       0, 0, 0, 0, 0, 0, 0, 0, 0, 0, 0, 0, 0, 0, 0, 0, 0, 0, 0, 0, 0, 0,\n",
       "       0, 0, 0, 0, 0, 0, 0, 0])"
      ]
     },
     "execution_count": 107,
     "metadata": {},
     "output_type": "execute_result"
    }
   ],
   "source": [
    "slop_c_dydx"
   ]
  },
  {
   "cell_type": "code",
   "execution_count": 108,
   "id": "6969b09a",
   "metadata": {},
   "outputs": [
    {
     "data": {
      "text/plain": [
       "array([False, False, False, False, False, False, False, False, False,\n",
       "       False, False, False, False, False, False, False, False, False,\n",
       "       False, False, False, False, False, False, False, False, False,\n",
       "       False, False, False, False, False, False, False, False, False,\n",
       "       False, False, False, False, False, False, False, False, False,\n",
       "       False, False, False, False, False, False, False, False, False,\n",
       "       False, False, False, False, False, False, False, False, False,\n",
       "       False, False, False, False, False, False, False, False, False,\n",
       "       False, False, False, False, False, False, False, False, False,\n",
       "       False, False, False, False, False, False, False, False, False,\n",
       "       False, False, False, False, False, False, False, False, False,\n",
       "       False, False, False, False, False, False, False, False, False,\n",
       "       False, False, False, False, False, False, False, False, False,\n",
       "       False, False, False, False, False, False, False, False, False,\n",
       "       False, False, False, False, False, False, False, False, False,\n",
       "       False, False, False, False, False, False, False, False, False,\n",
       "       False, False, False, False, False, False, False, False, False,\n",
       "       False, False, False, False, False, False, False, False, False,\n",
       "       False, False, False, False, False, False, False, False, False,\n",
       "       False, False, False, False, False, False, False, False, False,\n",
       "       False, False, False, False, False, False, False, False, False,\n",
       "       False, False, False, False, False, False, False, False, False,\n",
       "       False, False, False, False, False, False, False, False, False,\n",
       "       False, False, False, False, False, False, False, False, False,\n",
       "       False, False, False, False, False, False, False, False, False,\n",
       "       False, False, False, False, False, False, False, False, False,\n",
       "       False, False, False, False, False, False, False, False, False,\n",
       "       False, False, False, False, False, False, False, False, False,\n",
       "       False, False, False, False, False, False, False, False, False,\n",
       "       False, False, False, False, False, False, False, False, False,\n",
       "       False, False, False, False, False, False, False, False, False,\n",
       "       False, False, False, False, False, False, False, False, False,\n",
       "       False, False, False, False, False, False, False, False, False,\n",
       "       False, False, False, False, False, False, False, False, False,\n",
       "       False, False, False, False, False, False, False, False, False,\n",
       "       False, False, False, False, False, False, False, False, False,\n",
       "       False, False, False, False, False, False, False, False, False,\n",
       "       False, False, False, False, False, False, False, False, False,\n",
       "       False, False, False, False, False, False, False, False, False,\n",
       "       False, False, False, False, False, False, False, False])"
      ]
     },
     "execution_count": 108,
     "metadata": {},
     "output_type": "execute_result"
    }
   ],
   "source": [
    "slop_change<0"
   ]
  },
  {
   "cell_type": "code",
   "execution_count": 109,
   "id": "b3c58f07",
   "metadata": {},
   "outputs": [
    {
     "data": {
      "text/plain": [
       "array([ 0.01744177,  0.01742849,  0.01740989,  0.01738599,  0.0173568 ,\n",
       "        0.01732232,  0.01728256,  0.01723754,  0.01718727,  0.01713176,\n",
       "        0.01707103,  0.0170051 ,  0.016934  ,  0.01685773,  0.01677633,\n",
       "        0.01668982,  0.01659822,  0.01650157,  0.0163999 ,  0.01629323,\n",
       "        0.01618159,  0.01606502,  0.01594357,  0.01581725,  0.01568612,\n",
       "        0.01555021,  0.01540956,  0.01526422,  0.01511423,  0.01495963,\n",
       "        0.01480048,  0.01463682,  0.0144687 ,  0.01429617,  0.01411929,\n",
       "        0.01393811,  0.01375268,  0.01356307,  0.01336932,  0.0131715 ,\n",
       "        0.01296967,  0.01276388,  0.01255421,  0.01234071,  0.01212346,\n",
       "        0.01190251,  0.01167794,  0.01144981,  0.01121819,  0.01098316,\n",
       "        0.01074477,  0.01050312,  0.01025827,  0.01001029,  0.00975926,\n",
       "        0.00950526,  0.00924837,  0.00898865,  0.0087262 ,  0.00846109,\n",
       "        0.00819341,  0.00792323,  0.00765063,  0.00737571,  0.00709853,\n",
       "        0.0068192 ,  0.00653779,  0.00625438,  0.00596907,  0.00568195,\n",
       "        0.00539309,  0.00510259,  0.00481054,  0.00451702,  0.00422212,\n",
       "        0.00392594,  0.00362856,  0.00333008,  0.00303058,  0.00273016,\n",
       "        0.00242891,  0.00212691,  0.00182427,  0.00152108,  0.00121742,\n",
       "        0.00091339,  0.00060908,  0.00030459,  0.        , -0.00030459,\n",
       "       -0.00060908, -0.00091339, -0.00121742, -0.00152108, -0.00182427,\n",
       "       -0.00212691, -0.00242891, -0.00273016, -0.00303058, -0.00333008,\n",
       "       -0.00362856, -0.00392594, -0.00422212, -0.00451702, -0.00481054,\n",
       "       -0.00510259, -0.00539309, -0.00568195, -0.00596907, -0.00625438,\n",
       "       -0.00653779, -0.0068192 , -0.00709853, -0.00737571, -0.00765063,\n",
       "       -0.00792323, -0.00819341, -0.00846109, -0.0087262 , -0.00898865,\n",
       "       -0.00924837, -0.00950526, -0.00975926, -0.01001029, -0.01025827,\n",
       "       -0.01050312, -0.01074477, -0.01098316, -0.01121819, -0.01144981,\n",
       "       -0.01167794, -0.01190251, -0.01212346, -0.01234071, -0.01255421,\n",
       "       -0.01276388, -0.01296967, -0.0131715 , -0.01336932, -0.01356307,\n",
       "       -0.01375268, -0.01393811, -0.01411929, -0.01429617, -0.0144687 ,\n",
       "       -0.01463682, -0.01480048, -0.01495963, -0.01511423, -0.01526422,\n",
       "       -0.01540956, -0.01555021, -0.01568612, -0.01581725, -0.01594357,\n",
       "       -0.01606502, -0.01618159, -0.01629323, -0.0163999 , -0.01650157,\n",
       "       -0.01659822, -0.01668982, -0.01677633, -0.01685773, -0.016934  ,\n",
       "       -0.0170051 , -0.01707103, -0.01713176, -0.01718727, -0.01723754,\n",
       "       -0.01728256, -0.01732232, -0.0173568 , -0.01738599, -0.01740989,\n",
       "       -0.01742849, -0.01744177, -0.01744975, -0.01745241, -0.01744975,\n",
       "       -0.01744177, -0.01742849, -0.01740989, -0.01738599, -0.0173568 ,\n",
       "       -0.01732232, -0.01728256, -0.01723754, -0.01718727, -0.01713176,\n",
       "       -0.01707103, -0.0170051 , -0.016934  , -0.01685773, -0.01677633,\n",
       "       -0.01668982, -0.01659822, -0.01650157, -0.0163999 , -0.01629323,\n",
       "       -0.01618159, -0.01606502, -0.01594357, -0.01581725, -0.01568612,\n",
       "       -0.01555021, -0.01540956, -0.01526422, -0.01511423, -0.01495963,\n",
       "       -0.01480048, -0.01463682, -0.0144687 , -0.01429617, -0.01411929,\n",
       "       -0.01393811, -0.01375268, -0.01356307, -0.01336932, -0.0131715 ,\n",
       "       -0.01296967, -0.01276388, -0.01255421, -0.01234071, -0.01212346,\n",
       "       -0.01190251, -0.01167794, -0.01144981, -0.01121819, -0.01098316,\n",
       "       -0.01074477, -0.01050312, -0.01025827, -0.01001029, -0.00975926,\n",
       "       -0.00950526, -0.00924837, -0.00898865, -0.0087262 , -0.00846109,\n",
       "       -0.00819341, -0.00792323, -0.00765063, -0.00737571, -0.00709853,\n",
       "       -0.0068192 , -0.00653779, -0.00625438, -0.00596907, -0.00568195,\n",
       "       -0.00539309, -0.00510259, -0.00481054, -0.00451702, -0.00422212,\n",
       "       -0.00392594, -0.00362856, -0.00333008, -0.00303058, -0.00273016,\n",
       "       -0.00242891, -0.00212691, -0.00182427, -0.00152108, -0.00121742,\n",
       "       -0.00091339, -0.00060908, -0.00030459,  0.        ,  0.00030459,\n",
       "        0.00060908,  0.00091339,  0.00121742,  0.00152108,  0.00182427,\n",
       "        0.00212691,  0.00242891,  0.00273016,  0.00303058,  0.00333008,\n",
       "        0.00362856,  0.00392594,  0.00422212,  0.00451702,  0.00481054,\n",
       "        0.00510259,  0.00539309,  0.00568195,  0.00596907,  0.00625438,\n",
       "        0.00653779,  0.0068192 ,  0.00709853,  0.00737571,  0.00765063,\n",
       "        0.00792323,  0.00819341,  0.00846109,  0.0087262 ,  0.00898865,\n",
       "        0.00924837,  0.00950526,  0.00975926,  0.01001029,  0.01025827,\n",
       "        0.01050312,  0.01074477,  0.01098316,  0.01121819,  0.01144981,\n",
       "        0.01167794,  0.01190251,  0.01212346,  0.01234071,  0.01255421,\n",
       "        0.01276388,  0.01296967,  0.0131715 ,  0.01336932,  0.01356307,\n",
       "        0.01375268,  0.01393811,  0.01411929,  0.01429617,  0.0144687 ,\n",
       "        0.01463682,  0.01480048,  0.01495963,  0.01511423,  0.01526422,\n",
       "        0.01540956,  0.01555021,  0.01568612,  0.01581725,  0.01594357,\n",
       "        0.01606502,  0.01618159,  0.01629323,  0.0163999 ,  0.01650157,\n",
       "        0.01659822,  0.01668982,  0.01677633,  0.01685773,  0.016934  ,\n",
       "        0.0170051 ,  0.01707103,  0.01713176,  0.01718727,  0.01723754,\n",
       "        0.01728256,  0.01732232,  0.0173568 ,  0.01738599,  0.01740989,\n",
       "        0.01742849,  0.01744177,  0.01744975,  0.01745241])"
      ]
     },
     "execution_count": 109,
     "metadata": {},
     "output_type": "execute_result"
    }
   ],
   "source": [
    "dydx[1:]"
   ]
  },
  {
   "cell_type": "code",
   "execution_count": 110,
   "id": "e314f6ba",
   "metadata": {},
   "outputs": [
    {
     "data": {
      "text/plain": [
       "array([ 0.01744709,  0.01744177,  0.01742849,  0.01740989,  0.01738599,\n",
       "        0.0173568 ,  0.01732232,  0.01728256,  0.01723754,  0.01718727,\n",
       "        0.01713176,  0.01707103,  0.0170051 ,  0.016934  ,  0.01685773,\n",
       "        0.01677633,  0.01668982,  0.01659822,  0.01650157,  0.0163999 ,\n",
       "        0.01629323,  0.01618159,  0.01606502,  0.01594357,  0.01581725,\n",
       "        0.01568612,  0.01555021,  0.01540956,  0.01526422,  0.01511423,\n",
       "        0.01495963,  0.01480048,  0.01463682,  0.0144687 ,  0.01429617,\n",
       "        0.01411929,  0.01393811,  0.01375268,  0.01356307,  0.01336932,\n",
       "        0.0131715 ,  0.01296967,  0.01276388,  0.01255421,  0.01234071,\n",
       "        0.01212346,  0.01190251,  0.01167794,  0.01144981,  0.01121819,\n",
       "        0.01098316,  0.01074477,  0.01050312,  0.01025827,  0.01001029,\n",
       "        0.00975926,  0.00950526,  0.00924837,  0.00898865,  0.0087262 ,\n",
       "        0.00846109,  0.00819341,  0.00792323,  0.00765063,  0.00737571,\n",
       "        0.00709853,  0.0068192 ,  0.00653779,  0.00625438,  0.00596907,\n",
       "        0.00568195,  0.00539309,  0.00510259,  0.00481054,  0.00451702,\n",
       "        0.00422212,  0.00392594,  0.00362856,  0.00333008,  0.00303058,\n",
       "        0.00273016,  0.00242891,  0.00212691,  0.00182427,  0.00152108,\n",
       "        0.00121742,  0.00091339,  0.00060908,  0.00030459,  0.        ,\n",
       "       -0.00030459, -0.00060908, -0.00091339, -0.00121742, -0.00152108,\n",
       "       -0.00182427, -0.00212691, -0.00242891, -0.00273016, -0.00303058,\n",
       "       -0.00333008, -0.00362856, -0.00392594, -0.00422212, -0.00451702,\n",
       "       -0.00481054, -0.00510259, -0.00539309, -0.00568195, -0.00596907,\n",
       "       -0.00625438, -0.00653779, -0.0068192 , -0.00709853, -0.00737571,\n",
       "       -0.00765063, -0.00792323, -0.00819341, -0.00846109, -0.0087262 ,\n",
       "       -0.00898865, -0.00924837, -0.00950526, -0.00975926, -0.01001029,\n",
       "       -0.01025827, -0.01050312, -0.01074477, -0.01098316, -0.01121819,\n",
       "       -0.01144981, -0.01167794, -0.01190251, -0.01212346, -0.01234071,\n",
       "       -0.01255421, -0.01276388, -0.01296967, -0.0131715 , -0.01336932,\n",
       "       -0.01356307, -0.01375268, -0.01393811, -0.01411929, -0.01429617,\n",
       "       -0.0144687 , -0.01463682, -0.01480048, -0.01495963, -0.01511423,\n",
       "       -0.01526422, -0.01540956, -0.01555021, -0.01568612, -0.01581725,\n",
       "       -0.01594357, -0.01606502, -0.01618159, -0.01629323, -0.0163999 ,\n",
       "       -0.01650157, -0.01659822, -0.01668982, -0.01677633, -0.01685773,\n",
       "       -0.016934  , -0.0170051 , -0.01707103, -0.01713176, -0.01718727,\n",
       "       -0.01723754, -0.01728256, -0.01732232, -0.0173568 , -0.01738599,\n",
       "       -0.01740989, -0.01742849, -0.01744177, -0.01744975, -0.01745241,\n",
       "       -0.01744975, -0.01744177, -0.01742849, -0.01740989, -0.01738599,\n",
       "       -0.0173568 , -0.01732232, -0.01728256, -0.01723754, -0.01718727,\n",
       "       -0.01713176, -0.01707103, -0.0170051 , -0.016934  , -0.01685773,\n",
       "       -0.01677633, -0.01668982, -0.01659822, -0.01650157, -0.0163999 ,\n",
       "       -0.01629323, -0.01618159, -0.01606502, -0.01594357, -0.01581725,\n",
       "       -0.01568612, -0.01555021, -0.01540956, -0.01526422, -0.01511423,\n",
       "       -0.01495963, -0.01480048, -0.01463682, -0.0144687 , -0.01429617,\n",
       "       -0.01411929, -0.01393811, -0.01375268, -0.01356307, -0.01336932,\n",
       "       -0.0131715 , -0.01296967, -0.01276388, -0.01255421, -0.01234071,\n",
       "       -0.01212346, -0.01190251, -0.01167794, -0.01144981, -0.01121819,\n",
       "       -0.01098316, -0.01074477, -0.01050312, -0.01025827, -0.01001029,\n",
       "       -0.00975926, -0.00950526, -0.00924837, -0.00898865, -0.0087262 ,\n",
       "       -0.00846109, -0.00819341, -0.00792323, -0.00765063, -0.00737571,\n",
       "       -0.00709853, -0.0068192 , -0.00653779, -0.00625438, -0.00596907,\n",
       "       -0.00568195, -0.00539309, -0.00510259, -0.00481054, -0.00451702,\n",
       "       -0.00422212, -0.00392594, -0.00362856, -0.00333008, -0.00303058,\n",
       "       -0.00273016, -0.00242891, -0.00212691, -0.00182427, -0.00152108,\n",
       "       -0.00121742, -0.00091339, -0.00060908, -0.00030459,  0.        ,\n",
       "        0.00030459,  0.00060908,  0.00091339,  0.00121742,  0.00152108,\n",
       "        0.00182427,  0.00212691,  0.00242891,  0.00273016,  0.00303058,\n",
       "        0.00333008,  0.00362856,  0.00392594,  0.00422212,  0.00451702,\n",
       "        0.00481054,  0.00510259,  0.00539309,  0.00568195,  0.00596907,\n",
       "        0.00625438,  0.00653779,  0.0068192 ,  0.00709853,  0.00737571,\n",
       "        0.00765063,  0.00792323,  0.00819341,  0.00846109,  0.0087262 ,\n",
       "        0.00898865,  0.00924837,  0.00950526,  0.00975926,  0.01001029,\n",
       "        0.01025827,  0.01050312,  0.01074477,  0.01098316,  0.01121819,\n",
       "        0.01144981,  0.01167794,  0.01190251,  0.01212346,  0.01234071,\n",
       "        0.01255421,  0.01276388,  0.01296967,  0.0131715 ,  0.01336932,\n",
       "        0.01356307,  0.01375268,  0.01393811,  0.01411929,  0.01429617,\n",
       "        0.0144687 ,  0.01463682,  0.01480048,  0.01495963,  0.01511423,\n",
       "        0.01526422,  0.01540956,  0.01555021,  0.01568612,  0.01581725,\n",
       "        0.01594357,  0.01606502,  0.01618159,  0.01629323,  0.0163999 ,\n",
       "        0.01650157,  0.01659822,  0.01668982,  0.01677633,  0.01685773,\n",
       "        0.016934  ,  0.0170051 ,  0.01707103,  0.01713176,  0.01718727,\n",
       "        0.01723754,  0.01728256,  0.01732232,  0.0173568 ,  0.01738599,\n",
       "        0.01740989,  0.01742849,  0.01744177,  0.01744975])"
      ]
     },
     "execution_count": 110,
     "metadata": {},
     "output_type": "execute_result"
    }
   ],
   "source": [
    "dydx[:-1]"
   ]
  },
  {
   "cell_type": "code",
   "execution_count": 111,
   "id": "d3c1b9f5",
   "metadata": {},
   "outputs": [
    {
     "data": {
      "text/plain": [
       "array([ 90., 270.])"
      ]
     },
     "execution_count": 111,
     "metadata": {},
     "output_type": "execute_result"
    }
   ],
   "source": [
    "rootss"
   ]
  },
  {
   "cell_type": "code",
   "execution_count": 112,
   "id": "27311665",
   "metadata": {},
   "outputs": [
    {
     "data": {
      "text/plain": [
       "array([], dtype=float64)"
      ]
     },
     "execution_count": 112,
     "metadata": {},
     "output_type": "execute_result"
    }
   ],
   "source": [
    "roots"
   ]
  },
  {
   "cell_type": "markdown",
   "id": "19839857",
   "metadata": {},
   "source": [
    "https://matplotlib.org/stable/api/_as_gen/matplotlib.pyplot.subplots.html#matplotlib.pyplot.subplots\n",
    "https://matplotlib.org/stable/tutorials/colors/colors.html"
   ]
  },
  {
   "cell_type": "code",
   "execution_count": 118,
   "id": "a991a301",
   "metadata": {
    "scrolled": true
   },
   "outputs": [
    {
     "data": {
      "text/plain": [
       "<matplotlib.legend.Legend at 0x1295bdd13d0>"
      ]
     },
     "execution_count": 118,
     "metadata": {},
     "output_type": "execute_result"
    },
    {
     "data": {
      "image/png": "[encoded data removed]",
      "text/plain": [
       "<Figure size 504x504 with 1 Axes>"
      ]
     },
     "metadata": {},
     "output_type": "display_data"
    }
   ],
   "source": [
    "mpl.style.use('seaborn') #default is another\n",
    "fig, ax = plt.subplots(figsize=(7, 7))\n",
    "ax.plot(x,slop_c_dydx, 'C1', label='dy_dx')\n",
    "ax.plot(x,y, 'C2', label='y1')\n",
    "ax.plot(x[:-1],slop_c*-1,'C3',label='slop')\n",
    "ax.legend()\n",
    "#ax.grid()\n",
    "#ax.show()"
   ]
  },
  {
   "cell_type": "code",
   "execution_count": 114,
   "id": "03631886",
   "metadata": {},
   "outputs": [
    {
     "data": {
      "image/png": "[encoded data removed]",
      "text/plain": [
       "<Figure size 576x396 with 1 Axes>"
      ]
     },
     "metadata": {},
     "output_type": "display_data"
    }
   ],
   "source": [
    "plt.plot(x[:-1],slop_c)\n",
    "plt.grid()\n",
    "plt.show()"
   ]
  },
  {
   "cell_type": "code",
   "execution_count": 115,
   "id": "cffb46b6",
   "metadata": {},
   "outputs": [],
   "source": [
    "S_fy_dx = np.cumsum(y) #* (x[1000] - x[0])"
   ]
  },
  {
   "cell_type": "code",
   "execution_count": 116,
   "id": "9ad0b454",
   "metadata": {},
   "outputs": [
    {
     "data": {
      "text/plain": [
       "[<matplotlib.lines.Line2D at 0x1295bd20d60>]"
      ]
     },
     "execution_count": 116,
     "metadata": {},
     "output_type": "execute_result"
    },
    {
     "data": {
      "image/png": "[encoded data removed]",
      "text/plain": [
       "<Figure size 576x396 with 1 Axes>"
      ]
     },
     "metadata": {},
     "output_type": "display_data"
    }
   ],
   "source": [
    "plt.plot(x,S_fy_dx)"
   ]
  },
  {
   "cell_type": "code",
   "execution_count": 99,
   "id": "b533c06c",
   "metadata": {},
   "outputs": [],
   "source": [
    "slop_c_pre = np.append([0],slop_c_pre)"
   ]
  },
  {
   "cell_type": "code",
   "execution_count": 105,
   "id": "76e98ace",
   "metadata": {},
   "outputs": [
    {
     "data": {
      "text/plain": [
       "[<matplotlib.lines.Line2D at 0x1295bbd5370>]"
      ]
     },
     "execution_count": 105,
     "metadata": {},
     "output_type": "execute_result"
    },
    {
     "data": {
      "image/png": "[encoded data removed]",
      "text/plain": [
       "<Figure size 576x396 with 1 Axes>"
      ]
     },
     "metadata": {},
     "output_type": "display_data"
    }
   ],
   "source": [
    "plt.plot(x,slop_c_pre*100)\n",
    "plt.plot(x,dydx)"
   ]
  },
  {
   "cell_type": "code",
   "execution_count": null,
   "id": "bf570a38",
   "metadata": {},
   "outputs": [],
   "source": []
  },
  {
   "cell_type": "code",
   "execution_count": null,
   "id": "8a5489a2",
   "metadata": {},
   "outputs": [],
   "source": []
  }
 ],
 "metadata": {
  "kernelspec": {
   "display_name": "Python 3 (ipykernel)",
   "language": "python",
   "name": "python3"
  },
  "language_info": {
   "codemirror_mode": {
    "name": "ipython",
    "version": 3
   },
   "file_extension": ".py",
   "mimetype": "text/x-python",
   "name": "python",
   "nbconvert_exporter": "python",
   "pygments_lexer": "ipython3",
   "version": "3.9.7"
  }
 },
 "nbformat": 4,
 "nbformat_minor": 5
}
